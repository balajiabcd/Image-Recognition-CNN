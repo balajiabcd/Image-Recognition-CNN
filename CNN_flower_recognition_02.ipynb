{
  "nbformat": 4,
  "nbformat_minor": 0,
  "metadata": {
    "kernelspec": {
      "display_name": "Python 3",
      "language": "python",
      "name": "python3"
    },
    "language_info": {
      "codemirror_mode": {
        "name": "ipython",
        "version": 3
      },
      "file_extension": ".py",
      "mimetype": "text/x-python",
      "name": "python",
      "nbconvert_exporter": "python",
      "pygments_lexer": "ipython3",
      "version": "3.8.5"
    },
    "colab": {
      "name": "CNN flower recognition.ipynb",
      "provenance": [],
      "include_colab_link": true
    }
  },
  "cells": [
    {
      "cell_type": "markdown",
      "metadata": {
        "id": "view-in-github",
        "colab_type": "text"
      },
      "source": [
        "<a href=\"https://colab.research.google.com/github/balajiabcd/Image-Recognition-CNN/blob/main/CNN_flower_recognition_02.ipynb\" target=\"_parent\"><img src=\"https://colab.research.google.com/assets/colab-badge.svg\" alt=\"Open In Colab\"/></a>"
      ]
    },
    {
      "cell_type": "markdown",
      "metadata": {
        "id": "7T4M5Ojd5JIx"
      },
      "source": [
        "## Preprocessing"
      ]
    },
    {
      "cell_type": "markdown",
      "metadata": {
        "id": "Bdjx2p6G5JI4"
      },
      "source": [
        "### Importning Libraries"
      ]
    },
    {
      "cell_type": "code",
      "metadata": {
        "id": "ngI51Hks5JI7"
      },
      "source": [
        "import tensorflow as tf\n",
        "from keras.preprocessing.image import ImageDataGenerator"
      ],
      "execution_count": null,
      "outputs": []
    },
    {
      "cell_type": "markdown",
      "metadata": {
        "id": "Y49NTzE_5JI_"
      },
      "source": [
        "### Image Preprocessing for train set"
      ]
    },
    {
      "cell_type": "code",
      "metadata": {
        "id": "enAJrvFo5JJA",
        "outputId": "caf97ecb-a90e-4c3d-dada-32a0cbce2785"
      },
      "source": [
        "train_datagen = ImageDataGenerator(\n",
        "        rescale=1./255,\n",
        "        shear_range=0.2,\n",
        "        zoom_range=0.2,\n",
        "        horizontal_flip=True)\n",
        "\n",
        "train_set = train_datagen.flow_from_directory(\n",
        "        'train',\n",
        "        target_size=(64,64),\n",
        "        batch_size=32,\n",
        "        class_mode='binary')"
      ],
      "execution_count": null,
      "outputs": [
        {
          "name": "stdout",
          "output_type": "stream",
          "text": [
            "Found 3428 images belonging to 5 classes.\n"
          ]
        }
      ]
    },
    {
      "cell_type": "markdown",
      "metadata": {
        "id": "ZlXu0p5x5JJE"
      },
      "source": [
        "### Image Preprocessing for test set"
      ]
    },
    {
      "cell_type": "code",
      "metadata": {
        "id": "8UjKP1kg5JJF",
        "outputId": "3a5ee295-d415-4390-d81f-f7c92a236c6f"
      },
      "source": [
        "test_datagen = ImageDataGenerator(rescale=1./255)\n",
        "\n",
        "test_set = train_datagen.flow_from_directory(\n",
        "        'test',\n",
        "        target_size=(64,64),\n",
        "        batch_size=32,\n",
        "        class_mode='binary')"
      ],
      "execution_count": null,
      "outputs": [
        {
          "name": "stdout",
          "output_type": "stream",
          "text": [
            "Found 889 images belonging to 5 classes.\n"
          ]
        }
      ]
    },
    {
      "cell_type": "markdown",
      "metadata": {
        "id": "SuvvhTDN5JJG"
      },
      "source": [
        "## CNN"
      ]
    },
    {
      "cell_type": "markdown",
      "metadata": {
        "id": "KjGDdTj05JJH"
      },
      "source": [
        "### Initializing CNN"
      ]
    },
    {
      "cell_type": "code",
      "metadata": {
        "id": "na9QfmWz5JJH"
      },
      "source": [
        "cnn = tf.keras.models.Sequential()"
      ],
      "execution_count": null,
      "outputs": []
    },
    {
      "cell_type": "markdown",
      "metadata": {
        "id": "7QFENnKf5JJI"
      },
      "source": [
        "### First layer"
      ]
    },
    {
      "cell_type": "code",
      "metadata": {
        "id": "beVBTRsL5JJJ"
      },
      "source": [
        "cnn.add(tf.keras.layers.Conv2D(filters=32, kernel_size=3, activation='relu', input_shape=[64, 64, 3]))\n",
        "cnn.add(tf.keras.layers.MaxPool2D(pool_size=2, strides=2))"
      ],
      "execution_count": null,
      "outputs": []
    },
    {
      "cell_type": "markdown",
      "metadata": {
        "id": "9efoXIzC5JJK"
      },
      "source": [
        "### Second layer"
      ]
    },
    {
      "cell_type": "code",
      "metadata": {
        "id": "DqjrMY4L5JJL"
      },
      "source": [
        "cnn.add(tf.keras.layers.Conv2D(filters=32, kernel_size=3, activation='relu'))\n",
        "cnn.add(tf.keras.layers.MaxPool2D(pool_size=2, strides=2))"
      ],
      "execution_count": null,
      "outputs": []
    },
    {
      "cell_type": "markdown",
      "metadata": {
        "id": "3XM5ivlU5JJL"
      },
      "source": [
        "### Flatening and Full connection and Output layers"
      ]
    },
    {
      "cell_type": "code",
      "metadata": {
        "id": "i2qY4b_v5JJM"
      },
      "source": [
        "cnn.add(tf.keras.layers.Flatten())\n",
        "cnn.add(tf.keras.layers.Dense(units=128, activation='relu'))\n",
        "cnn.add(tf.keras.layers.Dense(units=5, activation=\"softmax\"))"
      ],
      "execution_count": null,
      "outputs": []
    },
    {
      "cell_type": "markdown",
      "metadata": {
        "id": "2k8POR_r5JJN"
      },
      "source": [
        "## Training and Testing"
      ]
    },
    {
      "cell_type": "code",
      "metadata": {
        "id": "xNKpce2O5JJN",
        "outputId": "b2d17e6f-3bfd-4f7a-f0e7-71b6f31b4024"
      },
      "source": [
        "cnn.compile(optimizer = 'adam', loss = 'sparse_categorical_crossentropy', metrics = ['accuracy'])\n",
        "cnn.fit(x = train_set, validation_data = test_set, epochs = 25)"
      ],
      "execution_count": null,
      "outputs": [
        {
          "name": "stdout",
          "output_type": "stream",
          "text": [
            "Epoch 1/25\n",
            "108/108 [==============================] - 21s 192ms/step - loss: 1.2614 - accuracy: 0.4682 - val_loss: 1.1727 - val_accuracy: 0.4994\n",
            "Epoch 2/25\n",
            "108/108 [==============================] - 24s 219ms/step - loss: 1.0803 - accuracy: 0.5709 - val_loss: 1.0610 - val_accuracy: 0.5433\n",
            "Epoch 3/25\n",
            "108/108 [==============================] - 23s 216ms/step - loss: 0.9795 - accuracy: 0.6176 - val_loss: 1.0015 - val_accuracy: 0.5917\n",
            "Epoch 4/25\n",
            "108/108 [==============================] - 23s 213ms/step - loss: 0.9303 - accuracy: 0.6316 - val_loss: 0.9408 - val_accuracy: 0.6243\n",
            "Epoch 5/25\n",
            "108/108 [==============================] - 23s 212ms/step - loss: 0.8678 - accuracy: 0.6695 - val_loss: 1.0666 - val_accuracy: 0.5624\n",
            "Epoch 6/25\n",
            "108/108 [==============================] - 23s 211ms/step - loss: 0.8139 - accuracy: 0.6803 - val_loss: 0.9231 - val_accuracy: 0.6209\n",
            "Epoch 7/25\n",
            "108/108 [==============================] - 23s 211ms/step - loss: 0.7641 - accuracy: 0.7071 - val_loss: 0.9121 - val_accuracy: 0.6468\n",
            "Epoch 8/25\n",
            "108/108 [==============================] - 23s 216ms/step - loss: 0.7318 - accuracy: 0.7150 - val_loss: 0.9050 - val_accuracy: 0.6277\n",
            "Epoch 9/25\n",
            "108/108 [==============================] - 24s 227ms/step - loss: 0.7062 - accuracy: 0.7272 - val_loss: 0.8344 - val_accuracy: 0.6569\n",
            "Epoch 10/25\n",
            "108/108 [==============================] - 23s 212ms/step - loss: 0.6499 - accuracy: 0.7585 - val_loss: 0.8674 - val_accuracy: 0.6637\n",
            "Epoch 11/25\n",
            "108/108 [==============================] - 23s 212ms/step - loss: 0.6178 - accuracy: 0.7669 - val_loss: 0.9096 - val_accuracy: 0.6715\n",
            "Epoch 12/25\n",
            "108/108 [==============================] - 23s 211ms/step - loss: 0.5688 - accuracy: 0.7870 - val_loss: 1.0087 - val_accuracy: 0.6355\n",
            "Epoch 13/25\n",
            "108/108 [==============================] - 23s 215ms/step - loss: 0.5431 - accuracy: 0.8019 - val_loss: 1.0377 - val_accuracy: 0.6648\n",
            "Epoch 14/25\n",
            "108/108 [==============================] - 23s 217ms/step - loss: 0.5106 - accuracy: 0.8051 - val_loss: 0.9243 - val_accuracy: 0.6592\n",
            "Epoch 15/25\n",
            "108/108 [==============================] - 22s 205ms/step - loss: 0.4800 - accuracy: 0.8188 - val_loss: 0.9758 - val_accuracy: 0.6524\n",
            "Epoch 16/25\n",
            "108/108 [==============================] - 23s 213ms/step - loss: 0.4489 - accuracy: 0.8387 - val_loss: 0.9190 - val_accuracy: 0.6670\n",
            "Epoch 17/25\n",
            "108/108 [==============================] - 23s 211ms/step - loss: 0.4380 - accuracy: 0.8436 - val_loss: 0.9623 - val_accuracy: 0.6715\n",
            "Epoch 18/25\n",
            "108/108 [==============================] - 23s 210ms/step - loss: 0.4003 - accuracy: 0.8480 - val_loss: 1.1152 - val_accuracy: 0.6457\n",
            "Epoch 19/25\n",
            "108/108 [==============================] - 23s 214ms/step - loss: 0.3702 - accuracy: 0.8661 - val_loss: 1.0687 - val_accuracy: 0.6547\n",
            "Epoch 20/25\n",
            "108/108 [==============================] - 23s 211ms/step - loss: 0.3297 - accuracy: 0.8824 - val_loss: 0.9915 - val_accuracy: 0.6772\n",
            "Epoch 21/25\n",
            "108/108 [==============================] - 23s 210ms/step - loss: 0.3272 - accuracy: 0.8827 - val_loss: 0.9969 - val_accuracy: 0.6772\n",
            "Epoch 22/25\n",
            "108/108 [==============================] - 23s 213ms/step - loss: 0.3009 - accuracy: 0.8912 - val_loss: 1.2150 - val_accuracy: 0.6592\n",
            "Epoch 23/25\n",
            "108/108 [==============================] - 23s 209ms/step - loss: 0.2611 - accuracy: 0.9084 - val_loss: 1.1476 - val_accuracy: 0.6772\n",
            "Epoch 24/25\n",
            "108/108 [==============================] - 22s 204ms/step - loss: 0.2503 - accuracy: 0.9116 - val_loss: 1.0918 - val_accuracy: 0.6963\n",
            "Epoch 25/25\n",
            "108/108 [==============================] - 22s 199ms/step - loss: 0.2378 - accuracy: 0.9177 - val_loss: 1.1080 - val_accuracy: 0.6929\n"
          ]
        },
        {
          "data": {
            "text/plain": [
              "<keras.callbacks.History at 0x187063f05b0>"
            ]
          },
          "execution_count": 35,
          "metadata": {},
          "output_type": "execute_result"
        }
      ]
    },
    {
      "cell_type": "code",
      "metadata": {
        "id": "vZiff5LL5JJO"
      },
      "source": [
        ""
      ],
      "execution_count": null,
      "outputs": []
    }
  ]
}